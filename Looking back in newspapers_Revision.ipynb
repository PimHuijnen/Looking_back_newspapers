{
 "cells": [
  {
   "cell_type": "markdown",
   "metadata": {},
   "source": [
    "# Looking forward and looking back in Dutch newspapers\n",
    "\n",
    "Code is designed for raw csv's from Delpher with 28 columns."
   ]
  },
  {
   "cell_type": "code",
   "execution_count": null,
   "metadata": {},
   "outputs": [],
   "source": [
    "import pandas as pd\n",
    "import glob\n",
    "import random\n",
    "import os\n",
    "import string\n",
    "import re\n",
    "import numpy as np\n",
    "from collections import Counter\n",
    "from datetime import datetime\n",
    "from nltk import word_tokenize\n",
    "from nltk.util import ngrams\n",
    "import matplotlib.pyplot as plt\n",
    "import matplotlib.dates as mdates\n",
    "import matplotlib.cm as mplcm\n",
    "import matplotlib.colors as colors\n",
    "from matplotlib.pyplot import cm\n",
    "import seaborn as sns\n",
    "from tqdm.notebook import tqdm as log_progress"
   ]
  },
  {
   "cell_type": "code",
   "execution_count": null,
   "metadata": {},
   "outputs": [],
   "source": [
    "paper = 'Limburgsch Dagblad'\n",
    "paper_short = 'limburgschdagblad'\n",
    "path = \"/path/to/folder//Limburgsch_Dagblad/\"\n",
    "outdir = \"/path/to/outdir/\"\n",
    "allfiles = glob.glob(os.path.join(path, \"*.csv\"))"
   ]
  },
  {
   "cell_type": "code",
   "execution_count": null,
   "metadata": {},
   "outputs": [],
   "source": [
    "def query_column(i):\n",
    "    \"\"\"Function for naming df columns\"\"\"\n",
    "    i_df = i.replace(' ','_')\n",
    "    return i_df\n",
    "\n",
    "def remove_punctuation(words):\n",
    "    \"\"\"Remove punctuation from list of tokenized words\"\"\"\n",
    "    new_words = []\n",
    "    for word in word_tokenize(words):\n",
    "        new_word = re.sub(r'[^\\w\\s]', '', word)\n",
    "        if new_word != '' and len(new_word) >=3:\n",
    "            new_words.append(new_word)\n",
    "    words_str = (\" \".join(new_words))\n",
    "    return words_str\n",
    "\n",
    "def word_count(string):\n",
    "    \"\"\"Function to count words in text string\"\"\"\n",
    "    words = string.split()\n",
    "    return len(words)\n",
    "\n",
    "def jaar_geleden(jaar):\n",
    "    jaar_geleden = jaar + ' jaar geleden'\n",
    "    return str(jaar_geleden)\n",
    "\n",
    "def jaren_geleden(jaar):\n",
    "    jaren_geleden = jaar + ' jaren geleden'\n",
    "    return str(jaren_geleden)"
   ]
  },
  {
   "cell_type": "markdown",
   "metadata": {},
   "source": [
    "## Step 1: getting the data\n",
    "Make dataframe 'corpus' from newspaper documents' date, title and text"
   ]
  },
  {
   "cell_type": "code",
   "execution_count": null,
   "metadata": {
    "scrolled": true
   },
   "outputs": [],
   "source": [
    "sample_size = 10000\n",
    "corpus = pd.DataFrame()\n",
    "\n",
    "for filename in log_progress(allfiles):\n",
    "    print(filename[-8:-4])\n",
    "    n = sum(1 for line in open(filename)) #number of records in file (excludes header)\n",
    "    skip = sorted(random.sample(range(1,n+1),n-sample_size)) #the 0-indexed header will not be included in the skip list\n",
    "    df = pd.read_csv(filename, sep=\"\\t\", usecols=[4, 25, 28], skiprows=skip) # for Telegraaf, Limburgsch Dagblad, Leeuwarder Courant\n",
    "    print(\"Removing \" + str(len(df[df.duplicated(keep='first') == True])) + \" rows...\", end=\"\\n\")\n",
    "    df.drop(df.index[df.duplicated(keep='first') == True], axis=0, inplace=True)\n",
    "    df['text_content'] = df['text_content'].apply(str) # for Telegraaf, Limburgsch Dagblad, Leeuwarder Courant\n",
    "    df['text_clean'] = df['text_content'].apply(remove_punctuation)\n",
    "    df['text_clean'] = df['text_clean'].str.lower()\n",
    "    corpus = pd.concat([corpus, df], axis=0, ignore_index=True)"
   ]
  },
  {
   "cell_type": "code",
   "execution_count": null,
   "metadata": {},
   "outputs": [],
   "source": [
    "print(corpus.head())"
   ]
  },
  {
   "cell_type": "markdown",
   "metadata": {},
   "source": [
    "Turn date column into datetime index, remove old date and raw text columns "
   ]
  },
  {
   "cell_type": "code",
   "execution_count": null,
   "metadata": {},
   "outputs": [],
   "source": [
    "corpus['date'] = pd.to_datetime(corpus['paper_dc_date'], format =\"%Y-%m-%d\")\n",
    "corpus = corpus.set_index('date') # voor het tellen van jaren waarnaar indirect verwezen wordt is date als index niet handig\n",
    "corpus = corpus.drop(columns=['paper_dc_date', 'text_content'])\n",
    "corpus.sort_index(inplace=True)"
   ]
  },
  {
   "cell_type": "code",
   "execution_count": null,
   "metadata": {},
   "outputs": [],
   "source": [
    "corpus[\"no_words\"] = corpus[\"text_clean\"].str.len()"
   ]
  },
  {
   "cell_type": "code",
   "execution_count": null,
   "metadata": {},
   "outputs": [],
   "source": [
    "print(corpus.head())"
   ]
  },
  {
   "cell_type": "markdown",
   "metadata": {},
   "source": [
    "### If needed: Count number of trigrams per year"
   ]
  },
  {
   "cell_type": "code",
   "execution_count": null,
   "metadata": {},
   "outputs": [],
   "source": [
    "corpus['tokenized'] = corpus.apply(lambda row: \n",
    "    word_tokenize(str(row['text_clean'])), axis=1)"
   ]
  },
  {
   "cell_type": "code",
   "execution_count": null,
   "metadata": {},
   "outputs": [],
   "source": [
    "n = 3  # Change 'n' to any other number to generate n-grams of different lengths\n",
    "\n",
    "# Define a function to count trigrams\n",
    "def count_trigrams(row):\n",
    "    trigrams = list(ngrams(row, n))\n",
    "    trigram_tuples = [tuple(trigram) for trigram in trigrams]\n",
    "    trigram_counts = Counter(trigram_tuples)\n",
    "    return sum(count for trigram, count in trigram_counts.items())\n",
    "\n",
    "# Apply the function to each row and create a new 'trigram_count' column\n",
    "corpus['trigram_count'] = corpus['tokenized'].apply(count_trigrams)"
   ]
  },
  {
   "cell_type": "code",
   "execution_count": null,
   "metadata": {},
   "outputs": [],
   "source": [
    "print(corpus.head())"
   ]
  },
  {
   "cell_type": "markdown",
   "metadata": {},
   "source": [
    "## Querying looking back and looking forward\n",
    "\n",
    "String count to dataframe column"
   ]
  },
  {
   "cell_type": "code",
   "execution_count": null,
   "metadata": {},
   "outputs": [],
   "source": [
    "jaren = ['twee', 'drie', 'vier', 'vijf', 'zes', 'zeven', 'acht', 'negen', 'tien', 'elf', 'twaalf', 'dertien', 'veertien', 'vijftien', 'zestien', 'zeventien', 'achttien', 'negentien', 'twintig', 'dertig', 'veertig', 'vijftig', 'zestig', 'zeventig', 'tachtig', 'negentig', 'honderd', 'honderdtien', 'honderdtwintig', 'honderddertig', 'honderdveertig', 'honderdvijftig', 'honderdzestig', 'honderdzeventig', 'honderdtachtig', 'honderdnegentig', 'tweehonderd']\n",
    "print(len(jaren))"
   ]
  },
  {
   "cell_type": "code",
   "execution_count": null,
   "metadata": {},
   "outputs": [],
   "source": [
    "for jaar in jaren:\n",
    "    # count trigrams \"n jaar geleden\" and \"n jaren geleden\"\n",
    "    corpus[query_column(jaar_geleden(jaar)) + '_raw'] = corpus['text_clean'].str.count(jaar_geleden(jaar))\n",
    "    corpus[query_column(jaren_geleden(jaar)) + '_raw'] = corpus['text_clean'].str.count(jaren_geleden(jaar))"
   ]
  },
  {
   "cell_type": "code",
   "execution_count": null,
   "metadata": {},
   "outputs": [],
   "source": [
    "# count bigrams \"jaar geleden\" and \"jaren geleden\" to calculate normalized frequency of trigrams\n",
    "corpus['jaar_geleden'] = corpus['text_clean'].str.count('jaar geleden')\n",
    "corpus['jaren_geleden'] = corpus['text_clean'].str.count('jaren geleden')\n",
    "corpus['jaar_jaren_geleden'] = corpus['text_clean'].str.count(r'jaar geleden|jaren geleden')"
   ]
  },
  {
   "cell_type": "code",
   "execution_count": null,
   "metadata": {},
   "outputs": [],
   "source": [
    "print(corpus.head())"
   ]
  },
  {
   "cell_type": "markdown",
   "metadata": {},
   "source": [
    "Sum 'n_jaar_geleden' and 'n_jaren_geleden' for all columns where n is jaar in 'jaren'"
   ]
  },
  {
   "cell_type": "code",
   "execution_count": null,
   "metadata": {},
   "outputs": [],
   "source": [
    "for jaar in jaren:\n",
    "    columns_to_sum = [col for col in corpus.columns if col.startswith(jaar)]\n",
    "    corpus[jaar] = corpus[columns_to_sum].sum(axis=1)"
   ]
  },
  {
   "cell_type": "code",
   "execution_count": null,
   "metadata": {},
   "outputs": [],
   "source": [
    "corpus['een_jaar_geleden'] = corpus[\"text_clean\"].str.count('een jaar geleden')\n",
    "corpus['afgelopen_jaar'] = corpus[\"text_clean\"].str.count(r'afgelopen jaar|afgeloopen jaar')\n",
    "corpus['vorig_jaar'] = corpus[\"text_clean\"].str.count(r'vorig jaar|vorige jaar')\n",
    "corpus['verleden_jaar'] = corpus[\"text_clean\"].str.count('verleden jaar')"
   ]
  },
  {
   "cell_type": "markdown",
   "metadata": {},
   "source": [
    "Group by year to another df (to keep 'corpus' as a backup)"
   ]
  },
  {
   "cell_type": "code",
   "execution_count": null,
   "metadata": {},
   "outputs": [],
   "source": [
    "corpus2 = corpus.drop(columns=['text_clean', 'article_dc_title'])"
   ]
  },
  {
   "cell_type": "code",
   "execution_count": null,
   "metadata": {},
   "outputs": [],
   "source": [
    "corpus2 = corpus2.resample('Y').sum()"
   ]
  },
  {
   "cell_type": "code",
   "execution_count": null,
   "metadata": {},
   "outputs": [],
   "source": [
    "print(corpus2.tail())"
   ]
  },
  {
   "cell_type": "markdown",
   "metadata": {},
   "source": [
    "### Trends in 'jaar geleden' and 'jaren geleden'"
   ]
  },
  {
   "cell_type": "code",
   "execution_count": null,
   "metadata": {},
   "outputs": [],
   "source": [
    "def legend_name(i):\n",
    "    \"\"\"Function for turning df columns into legend names\"\"\"\n",
    "    i = i[:-9]\n",
    "    i_legend = i.replace('_',' ')\n",
    "    return i_legend"
   ]
  },
  {
   "cell_type": "code",
   "execution_count": null,
   "metadata": {},
   "outputs": [],
   "source": [
    "corpus2['jaar_geleden_perwords'] = corpus2['jaar_geleden'] / corpus2['no_words'] * 1000000\n",
    "corpus2['jaren_geleden_perwords'] = corpus2['jaren_geleden'] / corpus2['no_words'] * 1000000\n",
    "corpus2['jaar_jaren_geleden_perwords'] = corpus2['jaar_jaren_geleden'] / corpus2['no_words'] * 1000000"
   ]
  },
  {
   "cell_type": "code",
   "execution_count": null,
   "metadata": {},
   "outputs": [],
   "source": [
    "jaren_geleden = corpus2[['jaar_geleden_perwords', 'jaren_geleden_perwords', 'jaar_jaren_geleden_perwords']]\n",
    "\n",
    "# Create a custom color palette with enough unique colors\n",
    "custom_palette = sns.color_palette(\"Dark2\")\n",
    "\n",
    "# Create a new figure and axis\n",
    "plt.style.use(\"ggplot\")\n",
    "fig, ax = plt.subplots(figsize=(15, 10))\n",
    "\n",
    "# Plot the lines with the custom color palette\n",
    "for i, col in enumerate(jaren_geleden):\n",
    "    col_name = legend_name(col)\n",
    "    ax.plot(corpus2.index, corpus2[col], label=col_name, color=custom_palette[i])\n",
    "\n",
    "\n",
    "# Format the x-axis to show only years\n",
    "years = corpus2.index.year\n",
    "ax.set_xticks(corpus2.index[years % 2 == 0])\n",
    "ax.set_xticklabels(corpus2.index[years % 2 == 0].strftime('%Y'), rotation=45, size=12)\n",
    "ax.tick_params(axis='y', labelsize=12)\n",
    "\n",
    "# Rotate x-axis labels for better readability\n",
    "plt.xticks(rotation=45)\n",
    "\n",
    "# Set labels and legend\n",
    "plt.title(\"Overall frequency of 'year ago' bigrams in %s (sample size per year = 10,000 documents; per million words)\" %(paper), size=18)\n",
    "plt.xlabel(\"Year\", size=14)\n",
    "plt.ylabel(\"Per million words\", size=14)\n",
    "plt.legend()\n",
    "\n",
    "# Save the plot to desktop\n",
    "plt.savefig(outdir + \"Jaren_geleden_overall_%s.png\" %(paper_short), dpi=300)\n",
    "\n",
    "# Show the plot\n",
    "plt.tight_layout()\n",
    "plt.show()"
   ]
  },
  {
   "cell_type": "markdown",
   "metadata": {},
   "source": [
    "### Method 1: Calculate relative frequencies of each jaar in jaren relative to the total number of words per year * 10n6"
   ]
  },
  {
   "cell_type": "code",
   "execution_count": null,
   "metadata": {},
   "outputs": [],
   "source": [
    "for jaar in jaren:\n",
    "    corpus2[jaar + '_perwords'] = corpus2[jaar] / corpus2['no_words'] * 1000000"
   ]
  },
  {
   "cell_type": "code",
   "execution_count": null,
   "metadata": {},
   "outputs": [],
   "source": [
    "perwords_columns = [col for col in corpus2 if str(col).endswith(('_perwords'))]\n",
    "corpus_perwords = corpus2.filter(perwords_columns, axis=1)"
   ]
  },
  {
   "cell_type": "code",
   "execution_count": null,
   "metadata": {},
   "outputs": [],
   "source": [
    "corpus_perwords.to_csv(outdir + '%s_every_years_ago_perwords.csv' %(paper_short), sep='\\t')"
   ]
  },
  {
   "cell_type": "code",
   "execution_count": null,
   "metadata": {},
   "outputs": [],
   "source": [
    "print(corpus_perwords.tail())"
   ]
  },
  {
   "cell_type": "markdown",
   "metadata": {},
   "source": [
    "### Method 2: Calculate normalized frequencies of each jaar in jaren relative to the total frequency of bigram 'jaar geleden'/'jaren geleden'"
   ]
  },
  {
   "cell_type": "code",
   "execution_count": null,
   "metadata": {},
   "outputs": [],
   "source": [
    "for jaar in jaren:\n",
    "    corpus2[jaar + '_nor'] = corpus2[jaar] / corpus2['jaar_jaren_geleden']"
   ]
  },
  {
   "cell_type": "markdown",
   "metadata": {},
   "source": [
    "Make new dataframe without text column (while keeping corpus2 intact)."
   ]
  },
  {
   "cell_type": "code",
   "execution_count": null,
   "metadata": {},
   "outputs": [],
   "source": [
    "nor_columns = [col for col in corpus2 if str(col).endswith(('_nor'))]\n",
    "corpus_nor = corpus2.filter(nor_columns, axis=1)"
   ]
  },
  {
   "cell_type": "code",
   "execution_count": null,
   "metadata": {},
   "outputs": [],
   "source": [
    "corpus_nor.to_csv(outdir + '%s_every_years_ago_normalized.csv' %(paper_short), sep='\\t')"
   ]
  },
  {
   "cell_type": "code",
   "execution_count": null,
   "metadata": {},
   "outputs": [],
   "source": [
    "print(corpus_nor.head())"
   ]
  },
  {
   "cell_type": "markdown",
   "metadata": {},
   "source": [
    "### Making line charts based on 'n years ago'"
   ]
  },
  {
   "cell_type": "markdown",
   "metadata": {},
   "source": [
    "<b>Line chart per year based on corpus2_rel</b>"
   ]
  },
  {
   "cell_type": "code",
   "execution_count": null,
   "metadata": {},
   "outputs": [],
   "source": [
    "jaren2 = ['vier']\n",
    "#jaren2 = ['twee', 'drie', 'vier', 'vijf', 'zes', 'zeven', 'acht', 'negen', 'tien']\n",
    "#jaren2 = ['tien', 'twintig', 'dertig', 'veertig', 'vijftig', 'zestig', 'zeventig', 'tachtig', 'negentig', 'honderd']\n",
    "#jaren2 = ['tien', 'honderd', 'tweehonderd']\n",
    "jaren_str = '_'.join(jaren2)"
   ]
  },
  {
   "cell_type": "code",
   "execution_count": null,
   "metadata": {},
   "outputs": [],
   "source": [
    "# Create a custom color palette with enough unique colors\n",
    "custom_palette = sns.color_palette(\"Dark2\", len(corpus_nor.columns))\n",
    "\n",
    "# Create a new figure and axis\n",
    "plt.style.use(\"ggplot\")\n",
    "fig, ax = plt.subplots(figsize=(15, 10))\n",
    "\n",
    "# Plot the lines with the custom color palette\n",
    "for i, col in enumerate(corpus_nor.columns):\n",
    "    if str(col)[:-4] in jaren2:\n",
    "        col_name = str(col)[:-4]\n",
    "        ax.plot(corpus_nor.index, corpus_nor[col], label=col_name, color=custom_palette[i])\n",
    "\n",
    "# Format the x-axis to show only years\n",
    "years = corpus_nor.index.year\n",
    "ax.set_xticks(corpus_nor.index[years % 2 == 0])\n",
    "ax.set_xticklabels(corpus_nor.index[years % 2 == 0].strftime('%Y'), rotation=45, size=12)\n",
    "ax.tick_params(axis='y', labelsize=12)\n",
    "\n",
    "# Rotate x-axis labels for better readability\n",
    "plt.xticks(rotation=45)\n",
    "\n",
    "# Set labels and legend\n",
    "plt.title(\"Phrases of 'n years ago' in %s (sample size per year = 10,000 documents; normalized frequency)\" %(paper), size=18)\n",
    "plt.xlabel(\"Year\", size=14)\n",
    "plt.ylabel(\"Normalized frequency\", size=14)\n",
    "plt.legend()\n",
    "\n",
    "# Save the plot to desktop\n",
    "plt.savefig(outdir + \"%s_%s_normalized.png\" %(paper_short, jaren_str), dpi=300)\n",
    "\n",
    "# Show the plot\n",
    "plt.tight_layout()\n",
    "plt.show()\n"
   ]
  },
  {
   "cell_type": "code",
   "execution_count": null,
   "metadata": {},
   "outputs": [],
   "source": [
    "# Create a custom color palette with enough unique colors\n",
    "custom_palette = sns.color_palette(\"Dark2\", len(corpus_perwords.columns))\n",
    "\n",
    "# Create a new figure and axis\n",
    "plt.style.use(\"ggplot\")\n",
    "fig, ax = plt.subplots(figsize=(15, 10))\n",
    "\n",
    "# Plot the lines with the custom color palette\n",
    "for i, col in enumerate(corpus_perwords.columns):\n",
    "    if str(col)[:-9] in jaren2:\n",
    "        col_name = str(col)[:-9]\n",
    "        ax.plot(corpus_perwords.index, corpus_perwords[col], label=col_name, color=custom_palette[i])\n",
    "\n",
    "# Format the x-axis to show only years\n",
    "years = corpus_perwords.index.year\n",
    "ax.set_xticks(corpus_perwords.index[years % 2 == 0])\n",
    "ax.set_xticklabels(corpus_perwords.index[years % 2 == 0].strftime('%Y'), rotation=45, size=12)\n",
    "ax.tick_params(axis='y', labelsize=12)\n",
    "\n",
    "# Rotate x-axis labels for better readability\n",
    "plt.xticks(rotation=45)\n",
    "\n",
    "# Set labels and legend\n",
    "plt.title(\"Phrases of \\'n years ago\\' in %s (sample size per year = 10,000 documents; relative frequency)\" %(paper), size=18)\n",
    "plt.xlabel(\"Year\", size=14)\n",
    "plt.ylabel(\"Frequency per million words\", size =14)\n",
    "plt.legend()\n",
    "\n",
    "# save the plot to desktop\n",
    "plt.savefig(outdir + \"%s_%s_years_perwords.png\" %(paper_short, jaren_str), dpi=300)\n",
    "\n",
    "# Show the plot\n",
    "plt.tight_layout()\n",
    "plt.show()"
   ]
  },
  {
   "cell_type": "markdown",
   "metadata": {},
   "source": [
    "## References to last year"
   ]
  },
  {
   "cell_type": "code",
   "execution_count": null,
   "metadata": {},
   "outputs": [],
   "source": [
    "corpus4 = corpus2.copy()"
   ]
  },
  {
   "cell_type": "markdown",
   "metadata": {},
   "source": [
    "Method 1:"
   ]
  },
  {
   "cell_type": "code",
   "execution_count": null,
   "metadata": {},
   "outputs": [],
   "source": [
    "corpus4['een_jaar_geleden_perwords'] = corpus4['een_jaar_geleden'] / corpus4['no_words'] * 1000000\n",
    "corpus4['afgelopen_jaar_perwords'] = corpus4['afgelopen_jaar'] / corpus4['no_words'] * 1000000\n",
    "corpus4['vorig_jaar_perwords'] = corpus4['vorig_jaar'] / corpus4['no_words'] * 1000000\n",
    "corpus4['verleden_jaar_perwords'] = corpus4['verleden_jaar'] / corpus4['no_words'] * 1000000"
   ]
  },
  {
   "cell_type": "code",
   "execution_count": null,
   "metadata": {},
   "outputs": [],
   "source": [
    "year_perwords_columns = ['een_jaar_geleden_perwords', 'afgelopen_jaar_perwords', 'vorig_jaar_perwords', 'verleden_jaar_perwords']\n",
    "corpus_year_perwords = corpus4.filter(year_perwords_columns, axis=1)"
   ]
  },
  {
   "cell_type": "code",
   "execution_count": null,
   "metadata": {},
   "outputs": [],
   "source": [
    "corpus_year_perwords.to_csv(outdir + '%s_lastyear_perwords.csv' %(paper_short), sep='\\t')"
   ]
  },
  {
   "cell_type": "code",
   "execution_count": null,
   "metadata": {},
   "outputs": [],
   "source": [
    "print(corpus_year_perwords.head())"
   ]
  },
  {
   "cell_type": "code",
   "execution_count": null,
   "metadata": {
    "scrolled": true
   },
   "outputs": [],
   "source": [
    "# Create a new figure and axis\n",
    "plt.style.use(\"ggplot\")\n",
    "fig, ax = plt.subplots(figsize=(15, 10))\n",
    "\n",
    "# Plot the lines\n",
    "for col in corpus_year_perwords.columns:\n",
    "    col_name = str(col)[:-9]\n",
    "    print(col_name)\n",
    "    ax.plot(corpus_year_perwords.index, corpus_year_perwords[col], label=col_name)\n",
    "\n",
    "# Format the x-axis to show only years\n",
    "years = corpus_year_perwords.index.year\n",
    "ax.set_xticks(corpus_year_perwords.index[years % 2 == 0])\n",
    "ax.set_xticklabels(corpus_year_perwords.index[years % 2 == 0].strftime('%Y'), rotation=45, size=12)\n",
    "ax.tick_params(axis='y', labelsize=12)\n",
    "\n",
    "# Rotate x-axis labels for better readability\n",
    "plt.xticks(rotation=45)\n",
    "\n",
    "# Set labels and legend\n",
    "plt.title(\"Varieties of references to last year in \" + paper + \" (sample size per year = 10,000 documents; relative frequency)\", size=18)\n",
    "plt.xlabel(\"Year\", size=14)\n",
    "plt.ylabel(\"Frequency per million words\", size =14)\n",
    "plt.legend()\n",
    "\n",
    "# save the plot to desktop\n",
    "plt.savefig(outdir + \"%s_lastyear_perwords.png\" %(paper_short), dpi=300)\n",
    "\n",
    "# Show the plot\n",
    "plt.tight_layout()\n",
    "plt.show()"
   ]
  },
  {
   "cell_type": "markdown",
   "metadata": {},
   "source": [
    "Method 3:"
   ]
  },
  {
   "cell_type": "code",
   "execution_count": null,
   "metadata": {},
   "outputs": [],
   "source": [
    "corpus4['een_jaar_geleden_nor'] = corpus4['een_jaar_geleden'] / corpus4['jaar_jaren_geleden']\n",
    "corpus4['afgelopen_jaar_nor'] = corpus4['afgelopen_jaar'] / corpus4['jaar_jaren_geleden']\n",
    "corpus4['vorig_jaar_nor'] = corpus4['vorig_jaar'] / corpus4['jaar_jaren_geleden']\n",
    "corpus4['verleden_jaar_nor'] = corpus4['verleden_jaar'] / corpus4['jaar_jaren_geleden']"
   ]
  },
  {
   "cell_type": "code",
   "execution_count": null,
   "metadata": {},
   "outputs": [],
   "source": [
    "year_nor_columns = ['een_jaar_geleden_nor', 'afgelopen_jaar_nor', 'vorig_jaar_nor', 'verleden_jaar_nor']\n",
    "corpus_year_nor = corpus4.filter(year_nor_columns, axis=1)"
   ]
  },
  {
   "cell_type": "code",
   "execution_count": null,
   "metadata": {},
   "outputs": [],
   "source": [
    "corpus_year_perwords.to_csv(outdir + '%s_lastyear_nor.csv' %(paper_short), sep='\\t')"
   ]
  },
  {
   "cell_type": "code",
   "execution_count": null,
   "metadata": {},
   "outputs": [],
   "source": [
    "# Create a new figure and axis\n",
    "plt.style.use(\"ggplot\")\n",
    "fig, ax = plt.subplots(figsize=(15, 10))\n",
    "\n",
    "# Plot the lines\n",
    "for col in corpus_year_nor.columns:\n",
    "    col_name = str(col)[:-4]\n",
    "    print(col_name)\n",
    "    ax.plot(corpus_year_nor.index, corpus_year_nor[col], label=col_name)\n",
    "\n",
    "# Format the x-axis to show only years\n",
    "years = corpus_year_nor.index.year\n",
    "ax.set_xticks(corpus_year_nor.index[years % 2 == 0])\n",
    "ax.set_xticklabels(corpus_year_nor.index[years % 2 == 0].strftime('%Y'), rotation=45, size=12)\n",
    "ax.tick_params(axis='y', labelsize=12)\n",
    "\n",
    "# Rotate x-axis labels for better readability\n",
    "plt.xticks(rotation=45)\n",
    "\n",
    "# Set labels and legend\n",
    "plt.title(\"Varieties of references to last year in %s (sample size per year = 10,000 documents; normalized frequency)\" %(paper), size=18)\n",
    "plt.xlabel(\"Year\", size=14)\n",
    "plt.ylabel(\"Normalized frequency\", size =14)\n",
    "plt.legend()\n",
    "\n",
    "# save the plot to desktop\n",
    "plt.savefig(outdir + \"%s_lastyear_nor.png\" %(paper_short), dpi=300)\n",
    "\n",
    "# Show the plot\n",
    "plt.tight_layout()\n",
    "plt.show()"
   ]
  },
  {
   "cell_type": "markdown",
   "metadata": {},
   "source": [
    "## Counting frequency of years refered to by 'n years ago'"
   ]
  },
  {
   "cell_type": "code",
   "execution_count": null,
   "metadata": {},
   "outputs": [],
   "source": [
    "corpus3.index = corpus3.index.year"
   ]
  },
  {
   "cell_type": "code",
   "execution_count": null,
   "metadata": {},
   "outputs": [],
   "source": [
    "corpus3.reset_index(inplace=True) # turn 'date' into normal column to calculate target_year ('jaar_' + jaar)"
   ]
  },
  {
   "cell_type": "code",
   "execution_count": null,
   "metadata": {},
   "outputs": [],
   "source": [
    "print(corpus3.head())"
   ]
  },
  {
   "cell_type": "code",
   "execution_count": null,
   "metadata": {},
   "outputs": [],
   "source": [
    "numbers = {'1':'een', '2':'twee', '3':'drie', '4':'vier', '5':'vijf', '6':'zes', '7':'zeven', '8':'acht', '9':'negen', '10':'tien', '11':'elf', '12':'twaalf', '13':'dertien', '14':'veertien', '15':'vijftien', '16':'zestien', '17':'zeventien', '18':'achttien', '19':'negentien', '20':'twintig', '30':'dertig', '40':'veertig', '50':'vijftig', '60':'zestig', '70':'zeventig', '80':'tachtig', '90':'negentig', '100':'honderd', '110':'honderdtien', '120':'honderdtwintig', '130':'honderddertig', '140':'honderdveertig', '150':'honderdvijftig', '160':'honderdzestig', '170':'honderdzeventig', '180':'honderdtachtig', '190':'honderdnegentig', '200':'tweehonderd'}\n",
    "\n",
    "def word_to_number(getal):\n",
    "    for number, word in numbers.items():\n",
    "        if getal == word:\n",
    "            word_number = number\n",
    "    return int(word_number)\n",
    "\n",
    "def jaar_geleden(jaar): # Herhaling van hierboven, omdat dat om de een of andere reden moet. Werkt dit?\n",
    "    jaar_geleden = jaar + ' jaar geleden'\n",
    "    return str(jaar_geleden)\n",
    "\n",
    "def over_jaar(jaar): # Herhaling van hierboven, omdat dat om de een of andere reden moet. Werkt dit?\n",
    "    over_jaar = 'over ' + jaar + ' jaar'\n",
    "    return str(over_jaar)"
   ]
  },
  {
   "cell_type": "code",
   "execution_count": null,
   "metadata": {},
   "outputs": [],
   "source": [
    "print(len(jaren))"
   ]
  },
  {
   "cell_type": "markdown",
   "metadata": {},
   "source": [
    "Deze loop maakt voor elk jaar in jaren een kolom in corpus2 die uitrekent naar welk jaar 'n jaar geleden' verwijst. Vervolgens maakt hij een dictionary die voor elk jaar het jaar-waarnaar-verwezen-wordt als key neemt en de frequentie van de string 'n jaar geleden' als value. Dit telt de loop voor elk jaar in jaren bij elkaar op in final_dict (gaat via Counter, daarom lege Counter(add_dict) gemaakt)."
   ]
  },
  {
   "cell_type": "code",
   "execution_count": null,
   "metadata": {},
   "outputs": [],
   "source": [
    "final_dict = {}\n",
    "add_dict = {}\n",
    "add_dict = Counter(add_dict)\n",
    "\n",
    "for jaar in jaren:\n",
    "    corpus3['jaar_' + jaar] = [row - word_to_number(jaar) for row in corpus3['date'].astype(int)]\n",
    "    mydict = {d['jaar_' + jaar]: d[query_column(jaar_geleden(jaar)) + '_raw'] for d in corpus3.to_dict(orient='records')} # https://stackoverflow.com/questions/40924592/python-dictionary-comprehension-with-pandas\n",
    "    mydict_counter = Counter(mydict) # https://www.kite.com/python/answers/how-to-add-values-from-two-dictionaries-in-python\n",
    "    add_dict = add_dict + mydict_counter\n",
    "    \n",
    "final_dict = dict(add_dict)\n",
    "    "
   ]
  },
  {
   "cell_type": "code",
   "execution_count": null,
   "metadata": {},
   "outputs": [],
   "source": [
    "print(corpus3.head())"
   ]
  },
  {
   "cell_type": "code",
   "execution_count": null,
   "metadata": {},
   "outputs": [],
   "source": [
    "print(final_dict)"
   ]
  },
  {
   "cell_type": "code",
   "execution_count": null,
   "metadata": {},
   "outputs": [],
   "source": [
    "df_years_ago = pd.DataFrame.from_dict(final_dict, orient='index')\n",
    "df_years_ago = df_years_ago.sort_index(axis = 0)\n",
    "print(df_years_ago.head())"
   ]
  },
  {
   "cell_type": "code",
   "execution_count": null,
   "metadata": {},
   "outputs": [],
   "source": [
    "fig, ax = plt.subplots(figsize = [15,8])\n",
    "cmap = plt.get_cmap('Dark2')\n",
    "\n",
    "ax.bar(df_years_ago.index, df_years_ago[0], color=cmap(0))\n",
    "plt.xticks(np.arange(min(df_years_ago.index), max(df_years_ago.index)+1, 5.0))\n",
    "plt.xticks(rotation=45)\n",
    "ax.set_xlabel('Time')\n",
    "ax.set_ylabel('Frequency per Million words')\n",
    "ax.set_title('Years refered to via \\'n years ago\\' in %s (sample size per year = 10,000 docs)' %(paper))\n",
    "plt.show()"
   ]
  },
  {
   "cell_type": "code",
   "execution_count": null,
   "metadata": {},
   "outputs": [],
   "source": [
    "fig.savefig(outdir + \"%s_years_ago_ref.png\" %(paper_short), dpi=300)"
   ]
  },
  {
   "cell_type": "markdown",
   "metadata": {},
   "source": [
    "### Slicing on centuries"
   ]
  },
  {
   "cell_type": "code",
   "execution_count": null,
   "metadata": {},
   "outputs": [],
   "source": [
    "seventeen = df_years_ago.loc[1720:1800]\n",
    "eighteen = df_years_ago.loc[1800:1900]\n",
    "nineteen = df_years_ago.loc[1900:2000]\n",
    "centuries = [seventeen, eighteen, nineteen]"
   ]
  },
  {
   "cell_type": "code",
   "execution_count": null,
   "metadata": {},
   "outputs": [],
   "source": [
    "fig, axs = plt.subplots(3,1, figsize = [15,20], sharey=False)\n",
    "num_colors2 = len(centuries)\n",
    "cmap = plt.get_cmap('Dark2') # See https://matplotlib.org/stable/tutorials/colors/colormaps.html\n",
    "\n",
    "for no, i in enumerate(centuries):\n",
    "    ax = axs[no]\n",
    "    ax.bar(i.index, i[0], color=cmap(no))\n",
    "    ax.set_xticks(np.arange(min(i.index), max(i.index)+1, 5.0))\n",
    "    ax.set_xlabel('Time')\n",
    "    ax.set_ylabel('Frequency per Million words')\n",
    "    ax.set_title('Years referred to via \\'n years ago\\' in %s (sample size per year = 10,000 docs)' %(paper))\n",
    "plt.show()"
   ]
  },
  {
   "cell_type": "code",
   "execution_count": null,
   "metadata": {},
   "outputs": [],
   "source": [
    "fig.savefig(outdir + \"%s_years_ago_ref1.png\" %(paper_short), dpi=300)"
   ]
  },
  {
   "cell_type": "code",
   "execution_count": null,
   "metadata": {},
   "outputs": [],
   "source": [
    "df_years_ago.to_csv(outdir + \"years_referenced_%s.csv\" %(paper_short), sep='\\t')"
   ]
  },
  {
   "cell_type": "markdown",
   "metadata": {},
   "source": [
    "## Create list of n-grams of variations of \"n years ago\""
   ]
  },
  {
   "cell_type": "markdown",
   "metadata": {},
   "source": [
    "Creating a matrix of years (rows) and variations of \"n years ago\" (columns)"
   ]
  },
  {
   "cell_type": "code",
   "execution_count": null,
   "metadata": {},
   "outputs": [],
   "source": [
    "corpus5 = corpus.resample('Y').sum()"
   ]
  },
  {
   "cell_type": "code",
   "execution_count": null,
   "metadata": {},
   "outputs": [],
   "source": [
    "corpus3 = corpus.groupby((corpus.index.year//10)*10).sum()\n",
    "corpus3[\"no_words\"] = corpus3[\"text_clean\"].str.len()"
   ]
  },
  {
   "cell_type": "code",
   "execution_count": null,
   "metadata": {},
   "outputs": [],
   "source": [
    "print(corpus3.shape)"
   ]
  },
  {
   "cell_type": "code",
   "execution_count": null,
   "metadata": {},
   "outputs": [],
   "source": [
    "print(corpus3.head(10))"
   ]
  },
  {
   "cell_type": "code",
   "execution_count": null,
   "metadata": {},
   "outputs": [],
   "source": [
    "ago_df_final = pd.DataFrame()\n",
    "\n",
    "for index, row in log_progress(corpus3.iterrows()):\n",
    "    text_list = corpus3.loc[index, 'text_clean'].split()\n",
    "    columns = ['first', 'second', 'third']\n",
    "    ngrams_df = pd.DataFrame(ngrams(text_list, 3), columns = columns).astype(str)\n",
    "    ngrams_df['trigrams'] = ngrams_df['first'].str.cat([ngrams_df['second'], ngrams_df['third']], sep=' ')\n",
    "    ngrams_df.drop(['first', 'second', 'third'], axis=1, inplace=True)\n",
    "    ngrams_df['no_trigrams'] = len(ngrams_df['trigrams'])\n",
    "    ngrams_df['ago'] = ngrams_df['trigrams'][ngrams_df['trigrams'].str.endswith(r\"jaar geleden|jaren geleden\")]\n",
    "    ago_df = ngrams_df['ago'].value_counts().rename_axis('jaar').to_frame(index).transpose()\n",
    "    ago_df['no_trigrams'] = ngrams_df['no_trigrams']\n",
    "    ago_df_final = pd.concat([ago_df_final, ago_df], axis=0, ignore_index=False) "
   ]
  },
  {
   "cell_type": "code",
   "execution_count": null,
   "metadata": {},
   "outputs": [],
   "source": [
    "ago_df_final['no_words'] = corpus3['no_words']"
   ]
  },
  {
   "cell_type": "code",
   "execution_count": null,
   "metadata": {},
   "outputs": [],
   "source": [
    "print(ago_df_final.head())"
   ]
  },
  {
   "cell_type": "code",
   "execution_count": null,
   "metadata": {},
   "outputs": [],
   "source": [
    "for column in ago_df_final:\n",
    "    ago_df_final[column] = (ago_df_final[column] / ago_df_final['no_trigrams']) * 1000000"
   ]
  },
  {
   "cell_type": "code",
   "execution_count": null,
   "metadata": {},
   "outputs": [],
   "source": [
    "print(ago_df_final.head())"
   ]
  },
  {
   "cell_type": "markdown",
   "metadata": {},
   "source": [
    "Transposing the df above into a matrix of variations of \"n years ago\" (rows) and years (columns)"
   ]
  },
  {
   "cell_type": "code",
   "execution_count": null,
   "metadata": {},
   "outputs": [],
   "source": [
    "ago_df_final_trp3 = ago_df_final.transpose()\n",
    "print(ago_df_final_trp3.head())"
   ]
  },
  {
   "cell_type": "code",
   "execution_count": null,
   "metadata": {},
   "outputs": [],
   "source": [
    "ago_df_final_trp3.to_csv(outdir + '%s_10000_geleden_ngrams_permilltrigrams.csv' %(paper_short))"
   ]
  },
  {
   "cell_type": "markdown",
   "metadata": {},
   "source": [
    "Sum all rows (= variations of \"years ago\") per decade from ago_df_final_trp3 and put in dictionary 'total_dict'"
   ]
  },
  {
   "cell_type": "code",
   "execution_count": null,
   "metadata": {},
   "outputs": [],
   "source": [
    "print(int(ago_df_final_trp3['1890'].sum()) - 1000000)"
   ]
  },
  {
   "cell_type": "code",
   "execution_count": null,
   "metadata": {},
   "outputs": [],
   "source": [
    "total_dict = {}\n",
    "\n",
    "for column in ago_df_final_trp3:\n",
    "    total = ago_df_final_trp3[column].sum() - 1000000\n",
    "    total_dict[column] = int(total)"
   ]
  },
  {
   "cell_type": "code",
   "execution_count": null,
   "metadata": {},
   "outputs": [],
   "source": [
    "print(total_dict)"
   ]
  },
  {
   "cell_type": "code",
   "execution_count": null,
   "metadata": {},
   "outputs": [],
   "source": [
    "keys = total_dict.keys()\n",
    "\n",
    "values = total_dict.values()\n",
    "\n",
    "\n",
    "plt.bar(keys, values)\n",
    "plt.show()"
   ]
  },
  {
   "cell_type": "code",
   "execution_count": null,
   "metadata": {},
   "outputs": [],
   "source": []
  }
 ],
 "metadata": {
  "kernelspec": {
   "display_name": "Python 3 (ipykernel)",
   "language": "python",
   "name": "python3"
  },
  "language_info": {
   "codemirror_mode": {
    "name": "ipython",
    "version": 3
   },
   "file_extension": ".py",
   "mimetype": "text/x-python",
   "name": "python",
   "nbconvert_exporter": "python",
   "pygments_lexer": "ipython3",
   "version": "3.11.3"
  }
 },
 "nbformat": 4,
 "nbformat_minor": 4
}
